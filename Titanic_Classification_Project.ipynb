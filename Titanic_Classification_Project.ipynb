{
 "cells": [
  {
   "cell_type": "markdown",
   "id": "23ffae30",
   "metadata": {},
   "source": [
    "## Description: This program predicts if a passanger will survive on the titanic."
   ]
  },
  {
   "cell_type": "code",
   "execution_count": null,
   "id": "c8d195a2",
   "metadata": {},
   "outputs": [],
   "source": [
    "# Import Libraries\n",
    "\n",
    "import numpy as np\n",
    "import seaborn as sns\n",
    "import pandas as pd\n",
    "import matplotlib.pyplot as plt\n",
    "from sklearn.preprocessing import LabelEncoder, StandardScaler \n",
    "from sklearn.model_selection import train_test_split\n",
    "from sklearn.linear_model import LogisticRegression\n",
    "from sklearn.neighbors import KNeighborsClassifier\n",
    "from sklearn.svm import SVC\n",
    "from sklearn.naive_bayes import GaussianNB\n",
    "from sklearn.ensemble import RandomForestClassifier\n",
    "from sklearn.tree import DecisionTreeClassifier\n",
    "from sklearn.metrics import confusion_matrix"
   ]
  },
  {
   "cell_type": "code",
   "execution_count": null,
   "id": "b8803c2d",
   "metadata": {},
   "outputs": [],
   "source": [
    "# Load the data\n",
    "\n",
    "titanic = sns.load_dataset('titanic')"
   ]
  },
  {
   "cell_type": "code",
   "execution_count": null,
   "id": "5a7ad15e",
   "metadata": {},
   "outputs": [],
   "source": [
    "# Print the first 5 rows the data\n",
    "\n",
    "titanic.head()"
   ]
  },
  {
   "cell_type": "code",
   "execution_count": null,
   "id": "06149e39",
   "metadata": {},
   "outputs": [],
   "source": [
    "# Count the number of rows and columns in the dataset\n",
    "\n",
    "titanic.shape"
   ]
  },
  {
   "cell_type": "code",
   "execution_count": null,
   "id": "1f8cf1ae",
   "metadata": {},
   "outputs": [],
   "source": [
    "# Get some descriptive statistics\n",
    "\n",
    "titanic.describe()"
   ]
  },
  {
   "cell_type": "code",
   "execution_count": null,
   "id": "e37c655d",
   "metadata": {},
   "outputs": [],
   "source": [
    "# Get a count of the number of survivors\n",
    "\n",
    "titanic['survived'].value_counts()"
   ]
  },
  {
   "cell_type": "code",
   "execution_count": null,
   "id": "eb56f50b",
   "metadata": {},
   "outputs": [],
   "source": [
    "# Visualize the count of survivors\n",
    "\n",
    "sns.countplot(titanic['survived']);"
   ]
  },
  {
   "cell_type": "code",
   "execution_count": null,
   "id": "3561b282",
   "metadata": {},
   "outputs": [],
   "source": [
    "# Visualize the count of surivors for columns 'who', 'sex', 'pclass', 'sibsp', 'parch', 'embarked'\n",
    "\n",
    "cols = ['who', 'sex', 'pclass', 'sibsp', 'parch', 'embarked']\n",
    "\n",
    "n_rows = 2\n",
    "n_cols = 3\n",
    "\n",
    "# The subplot grid and figure size of each graph\n",
    "\n",
    "fig, axs = plt.subplots(n_rows, n_cols, figsize = (n_cols * 3.2, n_rows * 3.2))\n",
    "\n",
    "for r in range(0, n_rows):\n",
    "    for c in range(0, n_cols):\n",
    "        i = r* n_cols + c # Index to go through the number of columns\n",
    "        \n",
    "        ax=axs[r][c] # Show where the position each subplot\n",
    "        sns.countplot(titanic[cols[i]], hue = titanic['survived'], ax=ax)\n",
    "        ax.set_title(cols[i])\n",
    "        ax.legend(title='Survived', loc = 'upper right')\n",
    "plt.tight_layout()"
   ]
  },
  {
   "cell_type": "code",
   "execution_count": null,
   "id": "5faeacea",
   "metadata": {},
   "outputs": [],
   "source": [
    "# Look at survival rate by sex\n",
    "\n",
    "titanic.groupby('sex')[['survived']].mean()"
   ]
  },
  {
   "cell_type": "code",
   "execution_count": null,
   "id": "f28cfde1",
   "metadata": {},
   "outputs": [],
   "source": [
    "# Look at survival rate by sex and class\n",
    "\n",
    "titanic.pivot_table('survived', index = 'sex', columns = 'class')"
   ]
  },
  {
   "cell_type": "code",
   "execution_count": null,
   "id": "f85487fe",
   "metadata": {},
   "outputs": [],
   "source": [
    "# Look at survival rate by sex and class visually\n",
    "\n",
    "titanic.pivot_table('survived', index = 'sex', columns = 'class').plot(kind='line');"
   ]
  },
  {
   "cell_type": "code",
   "execution_count": null,
   "id": "5f363237",
   "metadata": {},
   "outputs": [],
   "source": [
    "# Plot the survival rate of each class\n",
    "\n",
    "sns.barplot(x='class', y= 'survived', data= titanic);"
   ]
  },
  {
   "cell_type": "code",
   "execution_count": null,
   "id": "ed7a58fc",
   "metadata": {},
   "outputs": [],
   "source": [
    "# Look at survival rate by sex, age and class\n",
    "\n",
    "age = pd.cut(titanic['age'], [0,18,80])\n",
    "\n",
    "titanic.pivot_table('survived', ['sex', age], 'class')"
   ]
  },
  {
   "cell_type": "code",
   "execution_count": null,
   "id": "dcf61364",
   "metadata": {},
   "outputs": [],
   "source": [
    "# Plot the prices paid of each class\n",
    "\n",
    "plt.scatter(titanic['fare'], titanic['class'], color='purple', label = 'Passanger Paid')\n",
    "plt.ylabel('Class')\n",
    "plt.xlabel('Price/Class')\n",
    "plt.title('Price of Each Class')\n",
    "plt.legend()\n",
    "plt.show();"
   ]
  },
  {
   "cell_type": "code",
   "execution_count": null,
   "id": "0a4d3f3a",
   "metadata": {},
   "outputs": [],
   "source": [
    "# Count the empty values in each column\n",
    "\n",
    "titanic.isna().sum()"
   ]
  },
  {
   "cell_type": "code",
   "execution_count": null,
   "id": "545c3ea2",
   "metadata": {},
   "outputs": [],
   "source": [
    "# Look at all of the values in each column & get a count\n",
    "\n",
    "for val in titanic:\n",
    "    print(titanic[val].value_counts())\n",
    "    print()"
   ]
  },
  {
   "cell_type": "code",
   "execution_count": null,
   "id": "ce8b9bd8",
   "metadata": {},
   "outputs": [],
   "source": [
    "# Drop the columns\n",
    "\n",
    "titanic.drop(columns = ['deck', 'embark_town', 'alive', 'class', 'who', 'alone', 'adult_male'], inplace=True)\n",
    "\n",
    "# Remove the rows with missing values\n",
    "titanic.dropna(subset = ['embarked', 'age'], inplace=True)"
   ]
  },
  {
   "cell_type": "code",
   "execution_count": null,
   "id": "6e6579ac",
   "metadata": {},
   "outputs": [],
   "source": [
    "# Count the NEW number of rows and columns in the dataset\n",
    "\n",
    "titanic.shape"
   ]
  },
  {
   "cell_type": "code",
   "execution_count": null,
   "id": "712dea12",
   "metadata": {},
   "outputs": [],
   "source": [
    "# Look at the data types\n",
    "\n",
    "titanic.dtypes"
   ]
  },
  {
   "cell_type": "code",
   "execution_count": null,
   "id": "c455be12",
   "metadata": {},
   "outputs": [],
   "source": [
    "# Print the unique values in the columns\n",
    "\n",
    "print(titanic['sex'].unique())\n",
    "print(titanic['embarked'].unique())"
   ]
  },
  {
   "cell_type": "code",
   "execution_count": null,
   "id": "07c0f9ff",
   "metadata": {},
   "outputs": [],
   "source": [
    "# Encode the sex column\n",
    "\n",
    "labelEncoder = LabelEncoder()\n",
    "titanic.iloc[:,2] = labelEncoder.fit_transform(titanic.iloc[:,2].values)\n",
    "\n",
    "# Encode the embarked column\n",
    "\n",
    "titanic.iloc[:,7] = labelEncoder.fit_transform(titanic.iloc[:,7].values)"
   ]
  },
  {
   "cell_type": "code",
   "execution_count": null,
   "id": "c75f57c9",
   "metadata": {},
   "outputs": [],
   "source": [
    "# Print the unique values in the columns\n",
    "\n",
    "print(titanic['sex'].unique())\n",
    "print(titanic['embarked'].unique())"
   ]
  },
  {
   "cell_type": "code",
   "execution_count": null,
   "id": "8ba2383a",
   "metadata": {},
   "outputs": [],
   "source": [
    "titanic.dtypes"
   ]
  },
  {
   "cell_type": "code",
   "execution_count": null,
   "id": "09d2d9d2",
   "metadata": {},
   "outputs": [],
   "source": [
    "# Split the data into dependent 'X' and independent 'y' variables\n",
    "\n",
    "target = 'survived'\n",
    "\n",
    "X= titanic.drop(columns = target)\n",
    "y= titanic[target]"
   ]
  },
  {
   "cell_type": "code",
   "execution_count": null,
   "id": "47e229be",
   "metadata": {},
   "outputs": [],
   "source": [
    "# Scale the data\n",
    "\n",
    "sc = StandardScaler()\n",
    "X_train = sc.fit_transform(X_train)\n",
    "X_test = sc.fit_transform(X_test)"
   ]
  },
  {
   "cell_type": "code",
   "execution_count": null,
   "id": "6ef3056e",
   "metadata": {},
   "outputs": [],
   "source": [
    "# Split the dataset into train and test data\n",
    "\n",
    "X_train, X_test, y_train, y_test = train_test_split(X, y, test_size=0.2, random_state= 0)"
   ]
  },
  {
   "cell_type": "code",
   "execution_count": null,
   "id": "799dcc5d",
   "metadata": {},
   "outputs": [],
   "source": [
    "# Create a function with many machine learning models\n",
    "\n",
    "def models(X_train,y_train):\n",
    "    \n",
    "    #Use Logistic Regression\n",
    "    log = LogisticRegression(random_state=0)\n",
    "    log.fit(X_train,y_train)\n",
    "    \n",
    "    #Use KNeighbors\n",
    "    knn = KNeighborsClassifier(n_neighbors=5, metric='minkowski', p=2)\n",
    "    knn.fit(X_train,y_train)\n",
    "    \n",
    "    #Use SVC (Linear Kernel)\n",
    "    \n",
    "    svc_lin = SVC(kernel = 'linear', random_state=0)\n",
    "    svc_lin.fit(X_train, y_train)\n",
    "    \n",
    "    #Use SVC (RBF Kernel)\n",
    "    \n",
    "    svc_rbf = SVC(kernel = 'rbf', random_state=0)\n",
    "    svc_rbf.fit(X_train, y_train)\n",
    "    \n",
    "    #Use GaussianNB\n",
    "    \n",
    "    gauss = GaussianNB()\n",
    "    gauss.fit(X_train, y_train)\n",
    "    \n",
    "    #Use Decision Tree Classifier\n",
    "    \n",
    "    tree = DecisionTreeClassifier(criterion='entropy', random_state=0)\n",
    "    tree.fit(X_train,y_train)\n",
    "    \n",
    "    # Use Random Forest Classifier\n",
    "    \n",
    "    forest = RandomForestClassifier(n_estimators=10, criterion='entropy', random_state=0)\n",
    "    forest.fit(X_train,y_train)\n",
    "    \n",
    "    #Print the training accuracy for each model\n",
    "    \n",
    "    print('[0]Logistic Regression Training Accuracy: ', log.score(X_train,y_train))\n",
    "    print('[1]KNeighbors Training Accuracy: ', knn.score(X_train,y_train))\n",
    "    print('[2]SVC Linear Training Accuracy: ', svc_lin.score(X_train,y_train))\n",
    "    print('[3]SVC RBF Training Accuracy: ', svc_rbf.score(X_train,y_train))\n",
    "    print('[4]Gauss NB Training Accuracy: ', gauss.score(X_train,y_train))\n",
    "    print('[5]Decision Tree Training Accuracy: ', tree.score(X_train,y_train))\n",
    "    print('[6]Random Forest Training Accuracy: ', forest.score(X_train,y_train))\n",
    "    \n",
    "    return log, knn, svc_lin, svc_rbf, gauss, tree, forest\n",
    "    "
   ]
  },
  {
   "cell_type": "code",
   "execution_count": null,
   "id": "a453e68f",
   "metadata": {},
   "outputs": [],
   "source": [
    "#Get and train all of the models\n",
    "\n",
    "model = models(X_train,y_train)"
   ]
  },
  {
   "cell_type": "code",
   "execution_count": null,
   "id": "3738713d",
   "metadata": {},
   "outputs": [],
   "source": [
    "#Show the confusion matrix and accuracy for all of the models on the test data\n",
    "\n",
    "for i in range(len(model)):\n",
    "    cm = confusion_matrix(y_test, model[i].predict(X_test))\n",
    "    \n",
    "    #Extract TN, FP, FN, TP\n",
    "    TN, FP, FN, TP = confusion_matrix(y_test, model[i].predict(X_test)).ravel()\n",
    "    \n",
    "    test_score = (TN + TP)/(TN+TP+FN+FP)\n",
    "    \n",
    "    print(cm)\n",
    "    print('Model[{}] Testing Accuracy = \"{}\"'.format(i,test_score))\n",
    "    print()"
   ]
  },
  {
   "cell_type": "code",
   "execution_count": null,
   "id": "11abfaa1",
   "metadata": {},
   "outputs": [],
   "source": [
    "#Get feature importance\n",
    "\n",
    "forest = model[6]\n",
    "importances = pd.DataFrame({'feature': titanic.iloc[:,1:8].columns, 'importance' : np.round(forest.feature_importances_, 3)})\n",
    "importances = importances.sort_values('importance', ascending= False).set_index('feature')\n",
    "importances"
   ]
  },
  {
   "cell_type": "code",
   "execution_count": null,
   "id": "febd122c",
   "metadata": {},
   "outputs": [],
   "source": [
    "#Visualize the importances\n",
    "\n",
    "importances.plot.bar();"
   ]
  },
  {
   "cell_type": "code",
   "execution_count": null,
   "id": "67fa4ccb",
   "metadata": {},
   "outputs": [],
   "source": [
    "#Print the prediction of the random forest classifier\n",
    "\n",
    "pred= model[6].predict(X_test)\n",
    "print(pred)\n",
    "print()\n",
    "\n",
    "#Print the actual values\n",
    "\n",
    "print(y_test)\n"
   ]
  },
  {
   "cell_type": "code",
   "execution_count": null,
   "id": "69b8d583",
   "metadata": {},
   "outputs": [],
   "source": [
    "#My survival\n",
    "X_1 = np.array([2, 4, 89,10, 10, 0, 0])\n",
    "\n",
    "#Scaling my survival\n",
    "from sklearn.preprocessing import StandardScaler\n",
    "\n",
    "sc = StandardScaler()\n",
    "my_survival = sc.fit_transform(X_1[:, np.newaxis])\n",
    "\n",
    "my_survival = my_survival.transpose()\n",
    "print(my_survival)\n",
    "#my_survival = my_survival.transpose()\n",
    "\n",
    "print(my_survival)\n",
    "\n",
    "#Print prediction of my survival using Random Forest\n",
    "\n",
    "pred = model[5].predict(my_survival)\n",
    "print(pred)"
   ]
  },
  {
   "cell_type": "code",
   "execution_count": null,
   "id": "aa36d190",
   "metadata": {},
   "outputs": [],
   "source": []
  },
  {
   "cell_type": "code",
   "execution_count": null,
   "id": "911634ce",
   "metadata": {},
   "outputs": [],
   "source": []
  }
 ],
 "metadata": {
  "kernelspec": {
   "display_name": "Python 3 (ipykernel)",
   "language": "python",
   "name": "python3"
  },
  "language_info": {
   "codemirror_mode": {
    "name": "ipython",
    "version": 3
   },
   "file_extension": ".py",
   "mimetype": "text/x-python",
   "name": "python",
   "nbconvert_exporter": "python",
   "pygments_lexer": "ipython3",
   "version": "3.9.12"
  }
 },
 "nbformat": 4,
 "nbformat_minor": 5
}
